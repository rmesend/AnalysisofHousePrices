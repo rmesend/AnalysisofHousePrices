{
 "cells": [
  {
   "cell_type": "code",
   "execution_count": 118,
   "metadata": {},
   "outputs": [],
   "source": [
    "#import Libraries\n",
    "import math\n",
    "import pandas as pd\n",
    "import numpy as np\n",
    "import matplotlib.pyplot as plt\n",
    "import seaborn as sns\n",
    "import sklearn"
   ]
  },
  {
   "cell_type": "code",
   "execution_count": 119,
   "metadata": {},
   "outputs": [],
   "source": [
    "from sklearn.impute import SimpleImputer\n",
    "from sklearn.compose import make_column_transformer\n",
    "\n",
    "from sklearn.model_selection import cross_val_score\n",
    "from sklearn.preprocessing import OneHotEncoder\n",
    "from sklearn.pipeline import make_pipeline\n",
    "\n",
    "from sklearn.preprocessing import PolynomialFeatures   # For Polynomial Regression\n",
    "\n",
    "from sklearn.linear_model import Ridge\n",
    "from sklearn.linear_model import LinearRegression\n",
    "\n",
    "from sklearn.ensemble import RandomForestRegressor\n",
    "\n",
    "from sklearn import metrics\n",
    "from sklearn.metrics import mean_squared_error\n",
    "\n",
    "from sklearn.preprocessing import scale\n",
    "from sklearn.model_selection import train_test_split\n",
    "from sklearn.metrics import mean_absolute_error # For Regression\n",
    "from sklearn.metrics import r2_score # For Regression\n",
    "from sklearn.metrics import mean_squared_error # For Regression\n",
    "\n",
    "\n",
    "\n",
    "from sklearn.linear_model import Lasso\n",
    "from sklearn.model_selection import GridSearchCV\n",
    "\n",
    "from sklearn.compose import ColumnTransformer\n",
    "from sklearn.pipeline import Pipeline\n",
    "from sklearn.impute import SimpleImputer\n",
    "from sklearn.preprocessing import StandardScaler, OrdinalEncoder, OneHotEncoder\n",
    "\n",
    "pd.set_option('display.max_columns', 90) # by default 10, pandas will display all columns\n",
    "pd.set_option('display.max_rows', 15) # by default 10, pandas will display all rows\n",
    "\n",
    "\n",
    "\n",
    "\n",
    "\n"
   ]
  },
  {
   "cell_type": "code",
   "execution_count": 120,
   "metadata": {},
   "outputs": [
    {
     "name": "stdout",
     "output_type": "stream",
     "text": [
      "(29879, 19)\n",
      "(29880, 18)\n"
     ]
    },
    {
     "data": {
      "text/html": [
       "<div>\n",
       "<style scoped>\n",
       "    .dataframe tbody tr th:only-of-type {\n",
       "        vertical-align: middle;\n",
       "    }\n",
       "\n",
       "    .dataframe tbody tr th {\n",
       "        vertical-align: top;\n",
       "    }\n",
       "\n",
       "    .dataframe thead th {\n",
       "        text-align: right;\n",
       "    }\n",
       "</style>\n",
       "<table border=\"1\" class=\"dataframe\">\n",
       "  <thead>\n",
       "    <tr style=\"text-align: right;\">\n",
       "      <th></th>\n",
       "      <th>BOROUGH</th>\n",
       "      <th>NEIGHBORHOOD</th>\n",
       "      <th>BUILDING CLASS CATEGORY</th>\n",
       "      <th>TAX CLASS AT PRESENT</th>\n",
       "      <th>BLOCK</th>\n",
       "      <th>LOT</th>\n",
       "      <th>EASE-MENT</th>\n",
       "      <th>BUILDING CLASS AT PRESENT</th>\n",
       "      <th>ADDRESS</th>\n",
       "      <th>APARTMENT NUMBER</th>\n",
       "      <th>ZIP CODE</th>\n",
       "      <th>RESIDENTIAL UNITS</th>\n",
       "      <th>COMMERCIAL UNITS</th>\n",
       "      <th>TOTAL UNITS</th>\n",
       "      <th>LAND SQUARE FEET</th>\n",
       "      <th>GROSS SQUARE FEET</th>\n",
       "      <th>YEAR BUILT</th>\n",
       "      <th>SALE PRICE</th>\n",
       "      <th>Id</th>\n",
       "    </tr>\n",
       "  </thead>\n",
       "  <tbody>\n",
       "    <tr>\n",
       "      <th>0</th>\n",
       "      <td>4</td>\n",
       "      <td>FLUSHING-NORTH</td>\n",
       "      <td>02 TWO FAMILY DWELLINGS</td>\n",
       "      <td>1</td>\n",
       "      <td>6359</td>\n",
       "      <td>4</td>\n",
       "      <td></td>\n",
       "      <td>B1</td>\n",
       "      <td>13206 57 ROAD</td>\n",
       "      <td></td>\n",
       "      <td>11355</td>\n",
       "      <td>2</td>\n",
       "      <td>0</td>\n",
       "      <td>2</td>\n",
       "      <td>1285</td>\n",
       "      <td>1762</td>\n",
       "      <td>2002</td>\n",
       "      <td>1050000</td>\n",
       "      <td>57110</td>\n",
       "    </tr>\n",
       "    <tr>\n",
       "      <th>1</th>\n",
       "      <td>5</td>\n",
       "      <td>NEW DORP-BEACH</td>\n",
       "      <td>02 TWO FAMILY DWELLINGS</td>\n",
       "      <td>1</td>\n",
       "      <td>4067</td>\n",
       "      <td>27</td>\n",
       "      <td></td>\n",
       "      <td>B3</td>\n",
       "      <td>64 HETT AVENUE</td>\n",
       "      <td></td>\n",
       "      <td>10306</td>\n",
       "      <td>2</td>\n",
       "      <td>0</td>\n",
       "      <td>2</td>\n",
       "      <td>5000</td>\n",
       "      <td>3450</td>\n",
       "      <td>1960</td>\n",
       "      <td>750000</td>\n",
       "      <td>80619</td>\n",
       "    </tr>\n",
       "    <tr>\n",
       "      <th>2</th>\n",
       "      <td>1</td>\n",
       "      <td>UPPER EAST SIDE (79-96)</td>\n",
       "      <td>10 COOPS - ELEVATOR APARTMENTS</td>\n",
       "      <td>2</td>\n",
       "      <td>1582</td>\n",
       "      <td>46</td>\n",
       "      <td></td>\n",
       "      <td>D4</td>\n",
       "      <td>510 EAST 86TH STREET, 5A</td>\n",
       "      <td></td>\n",
       "      <td>10028</td>\n",
       "      <td>0</td>\n",
       "      <td>0</td>\n",
       "      <td>0</td>\n",
       "      <td>-</td>\n",
       "      <td>-</td>\n",
       "      <td>1958</td>\n",
       "      <td>1075000</td>\n",
       "      <td>14307</td>\n",
       "    </tr>\n",
       "    <tr>\n",
       "      <th>3</th>\n",
       "      <td>5</td>\n",
       "      <td>ELTINGVILLE</td>\n",
       "      <td>01 ONE FAMILY DWELLINGS</td>\n",
       "      <td>1</td>\n",
       "      <td>5366</td>\n",
       "      <td>21</td>\n",
       "      <td></td>\n",
       "      <td>A2</td>\n",
       "      <td>30 LISS STREET</td>\n",
       "      <td></td>\n",
       "      <td>10312</td>\n",
       "      <td>1</td>\n",
       "      <td>0</td>\n",
       "      <td>1</td>\n",
       "      <td>4000</td>\n",
       "      <td>1056</td>\n",
       "      <td>1960</td>\n",
       "      <td>490000</td>\n",
       "      <td>77692</td>\n",
       "    </tr>\n",
       "    <tr>\n",
       "      <th>4</th>\n",
       "      <td>2</td>\n",
       "      <td>MOTT HAVEN/PORT MORRIS</td>\n",
       "      <td>27 FACTORIES</td>\n",
       "      <td>4</td>\n",
       "      <td>2340</td>\n",
       "      <td>28</td>\n",
       "      <td></td>\n",
       "      <td>F4</td>\n",
       "      <td>2590 PARK AVENUE</td>\n",
       "      <td></td>\n",
       "      <td>10451</td>\n",
       "      <td>0</td>\n",
       "      <td>1</td>\n",
       "      <td>1</td>\n",
       "      <td>50400</td>\n",
       "      <td>48952</td>\n",
       "      <td>1958</td>\n",
       "      <td>11000000</td>\n",
       "      <td>21755</td>\n",
       "    </tr>\n",
       "    <tr>\n",
       "      <th>...</th>\n",
       "      <td>...</td>\n",
       "      <td>...</td>\n",
       "      <td>...</td>\n",
       "      <td>...</td>\n",
       "      <td>...</td>\n",
       "      <td>...</td>\n",
       "      <td>...</td>\n",
       "      <td>...</td>\n",
       "      <td>...</td>\n",
       "      <td>...</td>\n",
       "      <td>...</td>\n",
       "      <td>...</td>\n",
       "      <td>...</td>\n",
       "      <td>...</td>\n",
       "      <td>...</td>\n",
       "      <td>...</td>\n",
       "      <td>...</td>\n",
       "      <td>...</td>\n",
       "      <td>...</td>\n",
       "    </tr>\n",
       "    <tr>\n",
       "      <th>29874</th>\n",
       "      <td>4</td>\n",
       "      <td>RIDGEWOOD</td>\n",
       "      <td>03 THREE FAMILY DWELLINGS</td>\n",
       "      <td>1</td>\n",
       "      <td>3482</td>\n",
       "      <td>59</td>\n",
       "      <td></td>\n",
       "      <td>C0</td>\n",
       "      <td>807 WOODWARD AVENUE</td>\n",
       "      <td></td>\n",
       "      <td>11385</td>\n",
       "      <td>3</td>\n",
       "      <td>0</td>\n",
       "      <td>3</td>\n",
       "      <td>1942</td>\n",
       "      <td>2967</td>\n",
       "      <td>1901</td>\n",
       "      <td>1350000</td>\n",
       "      <td>70888</td>\n",
       "    </tr>\n",
       "    <tr>\n",
       "      <th>29875</th>\n",
       "      <td>3</td>\n",
       "      <td>PARK SLOPE SOUTH</td>\n",
       "      <td>04 TAX CLASS 1 CONDOS</td>\n",
       "      <td>1C</td>\n",
       "      <td>1011</td>\n",
       "      <td>1001</td>\n",
       "      <td></td>\n",
       "      <td>R6</td>\n",
       "      <td>401 10TH   STREET</td>\n",
       "      <td>1</td>\n",
       "      <td>11215</td>\n",
       "      <td>1</td>\n",
       "      <td>0</td>\n",
       "      <td>1</td>\n",
       "      <td>0</td>\n",
       "      <td>0</td>\n",
       "      <td>1901</td>\n",
       "      <td>1650000</td>\n",
       "      <td>45187</td>\n",
       "    </tr>\n",
       "    <tr>\n",
       "      <th>29876</th>\n",
       "      <td>1</td>\n",
       "      <td>KIPS BAY</td>\n",
       "      <td>13 CONDOS - ELEVATOR APARTMENTS</td>\n",
       "      <td>2</td>\n",
       "      <td>969</td>\n",
       "      <td>1052</td>\n",
       "      <td></td>\n",
       "      <td>R4</td>\n",
       "      <td>415 EAST 37TH STREET</td>\n",
       "      <td>8N</td>\n",
       "      <td>10016</td>\n",
       "      <td>1</td>\n",
       "      <td>0</td>\n",
       "      <td>1</td>\n",
       "      <td>-</td>\n",
       "      <td>-</td>\n",
       "      <td>1988</td>\n",
       "      <td>890000</td>\n",
       "      <td>6623</td>\n",
       "    </tr>\n",
       "    <tr>\n",
       "      <th>29877</th>\n",
       "      <td>1</td>\n",
       "      <td>UPPER WEST SIDE (59-79)</td>\n",
       "      <td>10 COOPS - ELEVATOR APARTMENTS</td>\n",
       "      <td>2</td>\n",
       "      <td>1143</td>\n",
       "      <td>24</td>\n",
       "      <td></td>\n",
       "      <td>D4</td>\n",
       "      <td>119 WEST 71ST STREET, 8C</td>\n",
       "      <td></td>\n",
       "      <td>10023</td>\n",
       "      <td>0</td>\n",
       "      <td>0</td>\n",
       "      <td>0</td>\n",
       "      <td>-</td>\n",
       "      <td>-</td>\n",
       "      <td>1913</td>\n",
       "      <td>1325000</td>\n",
       "      <td>15330</td>\n",
       "    </tr>\n",
       "    <tr>\n",
       "      <th>29878</th>\n",
       "      <td>3</td>\n",
       "      <td>SEAGATE</td>\n",
       "      <td>04 TAX CLASS 1 CONDOS</td>\n",
       "      <td>1A</td>\n",
       "      <td>7029</td>\n",
       "      <td>1002</td>\n",
       "      <td></td>\n",
       "      <td>R3</td>\n",
       "      <td>3715 MERMAID AVENUE</td>\n",
       "      <td>1B</td>\n",
       "      <td>11224</td>\n",
       "      <td>1</td>\n",
       "      <td>0</td>\n",
       "      <td>1</td>\n",
       "      <td>0</td>\n",
       "      <td>0</td>\n",
       "      <td>2003</td>\n",
       "      <td>530000</td>\n",
       "      <td>45814</td>\n",
       "    </tr>\n",
       "  </tbody>\n",
       "</table>\n",
       "<p>29879 rows × 19 columns</p>\n",
       "</div>"
      ],
      "text/plain": [
       "       BOROUGH             NEIGHBORHOOD  \\\n",
       "0            4           FLUSHING-NORTH   \n",
       "1            5           NEW DORP-BEACH   \n",
       "2            1  UPPER EAST SIDE (79-96)   \n",
       "3            5              ELTINGVILLE   \n",
       "4            2   MOTT HAVEN/PORT MORRIS   \n",
       "...        ...                      ...   \n",
       "29874        4                RIDGEWOOD   \n",
       "29875        3         PARK SLOPE SOUTH   \n",
       "29876        1                 KIPS BAY   \n",
       "29877        1  UPPER WEST SIDE (59-79)   \n",
       "29878        3                  SEAGATE   \n",
       "\n",
       "                           BUILDING CLASS CATEGORY TAX CLASS AT PRESENT  \\\n",
       "0      02 TWO FAMILY DWELLINGS                                        1   \n",
       "1      02 TWO FAMILY DWELLINGS                                        1   \n",
       "2      10 COOPS - ELEVATOR APARTMENTS                                 2   \n",
       "3      01 ONE FAMILY DWELLINGS                                        1   \n",
       "4      27 FACTORIES                                                   4   \n",
       "...                                            ...                  ...   \n",
       "29874  03 THREE FAMILY DWELLINGS                                      1   \n",
       "29875  04 TAX CLASS 1 CONDOS                                         1C   \n",
       "29876  13 CONDOS - ELEVATOR APARTMENTS                                2   \n",
       "29877  10 COOPS - ELEVATOR APARTMENTS                                 2   \n",
       "29878  04 TAX CLASS 1 CONDOS                                         1A   \n",
       "\n",
       "       BLOCK   LOT EASE-MENT BUILDING CLASS AT PRESENT  \\\n",
       "0       6359     4                                  B1   \n",
       "1       4067    27                                  B3   \n",
       "2       1582    46                                  D4   \n",
       "3       5366    21                                  A2   \n",
       "4       2340    28                                  F4   \n",
       "...      ...   ...       ...                       ...   \n",
       "29874   3482    59                                  C0   \n",
       "29875   1011  1001                                  R6   \n",
       "29876    969  1052                                  R4   \n",
       "29877   1143    24                                  D4   \n",
       "29878   7029  1002                                  R3   \n",
       "\n",
       "                        ADDRESS APARTMENT NUMBER  ZIP CODE  RESIDENTIAL UNITS  \\\n",
       "0                 13206 57 ROAD                      11355                  2   \n",
       "1                64 HETT AVENUE                      10306                  2   \n",
       "2      510 EAST 86TH STREET, 5A                      10028                  0   \n",
       "3                30 LISS STREET                      10312                  1   \n",
       "4              2590 PARK AVENUE                      10451                  0   \n",
       "...                         ...              ...       ...                ...   \n",
       "29874       807 WOODWARD AVENUE                      11385                  3   \n",
       "29875         401 10TH   STREET                1     11215                  1   \n",
       "29876      415 EAST 37TH STREET               8N     10016                  1   \n",
       "29877  119 WEST 71ST STREET, 8C                      10023                  0   \n",
       "29878       3715 MERMAID AVENUE               1B     11224                  1   \n",
       "\n",
       "       COMMERCIAL UNITS  TOTAL UNITS LAND SQUARE FEET GROSS SQUARE FEET  \\\n",
       "0                     0            2             1285              1762   \n",
       "1                     0            2             5000              3450   \n",
       "2                     0            0              -                 -     \n",
       "3                     0            1             4000              1056   \n",
       "4                     1            1            50400             48952   \n",
       "...                 ...          ...              ...               ...   \n",
       "29874                 0            3             1942              2967   \n",
       "29875                 0            1                0                 0   \n",
       "29876                 0            1              -                 -     \n",
       "29877                 0            0              -                 -     \n",
       "29878                 0            1                0                 0   \n",
       "\n",
       "       YEAR BUILT  SALE PRICE     Id  \n",
       "0            2002     1050000  57110  \n",
       "1            1960      750000  80619  \n",
       "2            1958     1075000  14307  \n",
       "3            1960      490000  77692  \n",
       "4            1958    11000000  21755  \n",
       "...           ...         ...    ...  \n",
       "29874        1901     1350000  70888  \n",
       "29875        1901     1650000  45187  \n",
       "29876        1988      890000   6623  \n",
       "29877        1913     1325000  15330  \n",
       "29878        2003      530000  45814  \n",
       "\n",
       "[29879 rows x 19 columns]"
      ]
     },
     "execution_count": 120,
     "metadata": {},
     "output_type": "execute_result"
    }
   ],
   "source": [
    "# 1.Upload data\n",
    "train = pd.read_csv('FINALPROJECT/train.csv')\n",
    "test = pd.read_csv('FINALPROJECT/test.csv')\n",
    "#review the shape\n",
    "print(train.shape)\n",
    "print(test.shape)\n",
    "\n",
    "train"
   ]
  },
  {
   "cell_type": "code",
   "execution_count": 121,
   "metadata": {},
   "outputs": [
    {
     "data": {
      "text/plain": [
       "[]"
      ]
     },
     "execution_count": 121,
     "metadata": {},
     "output_type": "execute_result"
    }
   ],
   "source": [
    "# 2.Data Exploration \n",
    "## Delete the columns with missing values more than 80%\n",
    "col_plus_50_null = [col for col in train.columns if train[col].isnull().sum() > 0.5*train.shape[0]]\n",
    "col_plus_50_null\n",
    "#train.isnull().sum()[train.isnull().sum() > 0.8*train.shape[0]].index\n",
    "#there is no Column with missing values more than 80% we dont drop the cols in test \n",
    "# if there is no cols with nulls we keep the same df"
   ]
  },
  {
   "cell_type": "markdown",
   "metadata": {},
   "source": [
    "#outlier detection\n",
    "#REMOVE THE OUTLIERS FROM THE DATA\n",
    "#IQR Score - Interquartile Range\n",
    "#The IQR is the range of values within the 25th and 75th percentiles.\n",
    "Q1 = train['SALE PRICE'].quantile(0.25)\n",
    "Q3 = train['SALE PRICE'].quantile(0.75)\n",
    "IQR = Q3 - Q1\n",
    "train = train[~((train['SALE PRICE'] < (Q1 - 1.5 * IQR)) |(train['SALE PRICE'] > (Q3 + 1.5 * IQR)))]\n",
    "train.shape"
   ]
  },
  {
   "cell_type": "code",
   "execution_count": null,
   "metadata": {},
   "outputs": [],
   "source": [
    "\n"
   ]
  },
  {
   "cell_type": "code",
   "execution_count": 122,
   "metadata": {},
   "outputs": [],
   "source": [
    "#transform the Columns GROSS SQUARE FEET AND LAND SQUARE FEET TO NUMERIC\n",
    "train['GROSS SQUARE FEET'] = pd.to_numeric(train['GROSS SQUARE FEET'], errors='coerce')\n",
    "train['LAND SQUARE FEET'] = pd.to_numeric(train['LAND SQUARE FEET'], errors='coerce')\n",
    "#transform the Columns GROSS SQUARE FEET AND LAND SQUARE FEET TO NUMERIC in test\n",
    "test['GROSS SQUARE FEET'] = pd.to_numeric(test['GROSS SQUARE FEET'], errors='coerce')\n",
    "test['LAND SQUARE FEET'] = pd.to_numeric(test['LAND SQUARE FEET'], errors='coerce')"
   ]
  },
  {
   "cell_type": "code",
   "execution_count": 123,
   "metadata": {},
   "outputs": [
    {
     "data": {
      "text/plain": [
       "BOROUGH                      int64\n",
       "NEIGHBORHOOD                object\n",
       "BUILDING CLASS CATEGORY     object\n",
       "TAX CLASS AT PRESENT        object\n",
       "BLOCK                        int64\n",
       "                            ...   \n",
       "LAND SQUARE FEET           float64\n",
       "GROSS SQUARE FEET          float64\n",
       "YEAR BUILT                   int64\n",
       "SALE PRICE                   int64\n",
       "Id                           int64\n",
       "Length: 19, dtype: object"
      ]
     },
     "execution_count": 123,
     "metadata": {},
     "output_type": "execute_result"
    }
   ],
   "source": [
    "#show the type of the columns\n",
    "train.dtypes"
   ]
  },
  {
   "cell_type": "code",
   "execution_count": 124,
   "metadata": {},
   "outputs": [
    {
     "data": {
      "text/plain": [
       "GROSS SQUARE FEET          10794\n",
       "LAND SQUARE FEET           10504\n",
       "BOROUGH                        0\n",
       "ZIP CODE                       0\n",
       "SALE PRICE                     0\n",
       "                           ...  \n",
       "LOT                            0\n",
       "BLOCK                          0\n",
       "TAX CLASS AT PRESENT           0\n",
       "BUILDING CLASS CATEGORY        0\n",
       "Id                             0\n",
       "Length: 19, dtype: int64"
      ]
     },
     "execution_count": 124,
     "metadata": {},
     "output_type": "execute_result"
    }
   ],
   "source": [
    "#check the missing values\n",
    "train.isnull().sum().sort_values(ascending=False)"
   ]
  },
  {
   "cell_type": "code",
   "execution_count": 125,
   "metadata": {},
   "outputs": [
    {
     "data": {
      "text/plain": [
       "array(['1', '2', '4', '1B', '2A', '2C', '1A', '2B', '1C', ' '],\n",
       "      dtype=object)"
      ]
     },
     "execution_count": 125,
     "metadata": {},
     "output_type": "execute_result"
    }
   ],
   "source": [
    "#Check the unique values in TAX CLASS CATEGORY\n",
    "train['TAX CLASS AT PRESENT'].unique()"
   ]
  },
  {
   "cell_type": "code",
   "execution_count": 126,
   "metadata": {},
   "outputs": [
    {
     "name": "stdout",
     "output_type": "stream",
     "text": [
      "['BOROUGH', 'BLOCK', 'LOT', 'ZIP CODE', 'RESIDENTIAL UNITS', 'COMMERCIAL UNITS', 'TOTAL UNITS', 'LAND SQUARE FEET', 'GROSS SQUARE FEET', 'YEAR BUILT', 'Id']\n",
      "['NEIGHBORHOOD', 'BUILDING CLASS CATEGORY', 'TAX CLASS AT PRESENT', 'EASE-MENT', 'BUILDING CLASS AT PRESENT', 'ADDRESS', 'APARTMENT NUMBER']\n",
      "[]\n",
      "5940      875000\n",
      "20893     877000\n",
      "12971    6925000\n",
      "29249    1080000\n",
      "15672     605858\n",
      "Name: SALE PRICE, dtype: int64\n"
     ]
    }
   ],
   "source": [
    "#separacion of the data\n",
    "#numerical = train.select_dtypes(include=['int64', 'float64']) #select and extract the numerical columns\n",
    "#numerical\n",
    "numerical = train.select_dtypes(include=np.number).columns.tolist() #list the numerical columns\n",
    "numerical.remove('SALE PRICE')\n",
    "nominal = train.select_dtypes(exclude=np.number).columns.tolist() #list the nominal columns\n",
    "#ordinal = ['TAX CLASS AT PRESENT','BUILDING CLASS AT PRESENT','LAND SQUARE FEET', 'GROSS SQUARE FEET']\n",
    "#remove the ordinal columns from nominal\n",
    "ordinal = []\n",
    "nominal = [x for x in nominal if x not in ordinal]\n",
    "#print the columns names\n",
    "print(numerical)\n",
    "print(nominal)\n",
    "print(ordinal)\n",
    "#transform the ordinal columns to numerical\n",
    "\n",
    "#split the data into train and test\n",
    "X = train[numerical + ordinal + nominal]\n",
    "y = train['SALE PRICE']\n",
    "x_train, x_test, y_train, y_test = train_test_split(X, y, test_size=0.2, random_state=42)\n",
    "X_Real = test[numerical+ ordinal + nominal] #test for kaggle\n",
    "\n",
    "print(y_test.head())"
   ]
  },
  {
   "cell_type": "code",
   "execution_count": 127,
   "metadata": {},
   "outputs": [],
   "source": [
    "# 3.Data Preprocessing\n",
    "## Pipeline auxiliary function work with the different data types\n",
    "\n",
    "#Ordinal Encoder\n",
    "ordinal_p = Pipeline([\n",
    "    (\"imputer\", SimpleImputer(strategy='most_frequent')),\n",
    "    (\"encoder\", OrdinalEncoder()),\n",
    "])\n",
    "#Nominal Encoder\n",
    "nominal_p = Pipeline([\n",
    "    (\"imputer\", SimpleImputer(strategy='most_frequent')),\n",
    "    (\"encoder\", OneHotEncoder(sparse = True ,handle_unknown='ignore'))\n",
    "])\n",
    "#Numerical Scaling\n",
    "numerical_p = Pipeline([\n",
    "    (\"imputer\" , SimpleImputer(strategy='mean')), #median is the default strategy we can change to mean\n",
    "    (\"scaler\", StandardScaler())\n",
    "])\n",
    "\n",
    "#Final Pipeline\n",
    "preprocessing_pipeline = ColumnTransformer([\n",
    "    (\"nominal_prep\", nominal_p, nominal),\n",
    "    (\"ordinal_prep\", ordinal_p, ordinal),\n",
    "    (\"numerical_prep\", numerical_p, numerical)\n",
    "])\n",
    "#I can use make_pipeline(preprocessing_pipeline)"
   ]
  },
  {
   "cell_type": "code",
   "execution_count": 128,
   "metadata": {},
   "outputs": [],
   "source": [
    "#Complete Pipeline\n",
    "#ML_model = LinearRegression()\n",
    "#ML_model = Lasso(alpha=190)\n",
    "ML_model = Ridge(alpha=20)\n",
    "#ML_model = RandomForestRegressor(n_estimators=100, max_depth=5, random_state=0)\n",
    "\n",
    "complete_pipeline = make_pipeline(preprocessing_pipeline, ML_model)\n"
   ]
  },
  {
   "cell_type": "code",
   "execution_count": 133,
   "metadata": {},
   "outputs": [],
   "source": [
    "#complete_pipeline"
   ]
  },
  {
   "cell_type": "code",
   "execution_count": 130,
   "metadata": {},
   "outputs": [
    {
     "name": "stdout",
     "output_type": "stream",
     "text": [
      "ERROR PREDICTIONS\n",
      "MAE 1381841.2284836913\n",
      "MSE 36933593916162.945\n",
      "RMSE 6077301.532437151\n",
      "R2 0.8540008578505007\n"
     ]
    },
    {
     "data": {
      "text/plain": [
       "<matplotlib.collections.PathCollection at 0x1246d1150>"
      ]
     },
     "execution_count": 130,
     "metadata": {},
     "output_type": "execute_result"
    },
    {
     "data": {
      "image/png": "[encoded data removed]",
      "text/plain": [
       "<Figure size 432x288 with 1 Axes>"
      ]
     },
     "metadata": {
      "needs_background": "light"
     },
     "output_type": "display_data"
    }
   ],
   "source": [
    "#4. Prediction and Evaluation\n",
    "\n",
    "complete_pipeline.fit(x_train, y_train)\n",
    "\n",
    "y_pred = complete_pipeline.predict(x_test)\n",
    "\n",
    "print('ERROR PREDICTIONS')\n",
    "print('MAE', metrics.mean_absolute_error(y_test, y_pred))\n",
    "print('MSE', metrics.mean_squared_error(y_test, y_pred))\n",
    "print('RMSE', np.sqrt(metrics.mean_squared_error(y_test, y_pred)))\n",
    "print('R2', metrics.r2_score(y_test, y_pred))\n",
    "\n",
    "p1 = max(max(y_pred), max(y_test))\n",
    "p2 = min(min(y_pred), min(y_test))\n",
    "\n",
    "plt.plot([p1, p2], [p1, p2], 'b-')\n",
    "plt.scatter(y_test, y_pred)\n",
    "\n"
   ]
  },
  {
   "cell_type": "code",
   "execution_count": 131,
   "metadata": {},
   "outputs": [],
   "source": [
    "#Generate a File with the predictions\n",
    "y_Real_test = complete_pipeline.predict(X_Real)\n",
    "\n",
    "pred = pd.DataFrame(y_Real_test)\n",
    "sub_df = pd.read_csv('FINALPROJECT/sample_submission.csv')\n",
    "datasets = pd.concat([sub_df['Id'], pred], axis=1)\n",
    "datasets.columns = ['Id', 'SalePrice']\n",
    "datasets.to_csv('sample_submission.csv', index=False)\n"
   ]
  },
  {
   "cell_type": "code",
   "execution_count": 135,
   "metadata": {},
   "outputs": [
    {
     "data": {
      "text/plain": [
       "<seaborn.axisgrid.FacetGrid at 0x123f31b40>"
      ]
     },
     "execution_count": 135,
     "metadata": {},
     "output_type": "execute_result"
    },
    {
     "data": {
      "image/png": "[encoded data removed]",
      "text/plain": [
       "<Figure size 360x360 with 1 Axes>"
      ]
     },
     "metadata": {
      "needs_background": "light"
     },
     "output_type": "display_data"
    }
   ],
   "source": [
    "sns.displot(y_test-y_pred)"
   ]
  }
 ],
 "metadata": {
  "interpreter": {
   "hash": "aee8b7b246df8f9039afb4144a1f6fd8d2ca17a180786b69acc140d282b71a49"
  },
  "kernelspec": {
   "display_name": "Python 3.10.0 64-bit",
   "language": "python",
   "name": "python3"
  },
  "language_info": {
   "codemirror_mode": {
    "name": "ipython",
    "version": 3
   },
   "file_extension": ".py",
   "mimetype": "text/x-python",
   "name": "python",
   "nbconvert_exporter": "python",
   "pygments_lexer": "ipython3",
   "version": "3.10.0"
  },
  "orig_nbformat": 4
 },
 "nbformat": 4,
 "nbformat_minor": 2
}
